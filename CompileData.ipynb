{
 "cells": [
  {
   "cell_type": "code",
   "execution_count": 1,
   "id": "5d7319d6",
   "metadata": {},
   "outputs": [
    {
     "name": "stdout",
     "output_type": "stream",
     "text": [
      "['-0.0332440668675476_-75.45230903823258.csv', '-0.0332665480169244_-67.32025466924605.csv', '-0.0332980471690226_-55.935378549571816.csv']\n"
     ]
    }
   ],
   "source": [
    "# First, assemble all the files into a ['Text', 'Lat', 'Long'] dataset\n",
    "import os\n",
    "\n",
    "files = os.listdir(\"Raw\")\n",
    "print(files[:3])"
   ]
  },
  {
   "cell_type": "code",
   "execution_count": 12,
   "id": "816e5b38",
   "metadata": {},
   "outputs": [
    {
     "name": "stdout",
     "output_type": "stream",
     "text": [
      "['@Mafercoronelq Ese mal hay en todo el país, salen hasta mas bravos', 'En ceremonia realizada bajo todos los protocolos de bioseguridad, licenciamos 23 Infantes de Marina Bachilleres en el #BFIM31 en #Caquetá, quienes cumplieron satisfactoriamente su tiempo de #ServicioMilitar a bordo de la Unidad Militar acuerdo.   BZ a todos los nuevos reservistas https://t.co/iJMUZc3EvA', 'Con una ceremonia, eucaristía y recorrido por las Unidades Fluviales, celebramos con nuestros reservistas de Puerto Leguízamo #Putumayo, el día de las Reservas de Primera Clase de @FuerzasMilCol para agradecer su compromiso y tiempo de servicio a la Institución Naval. https://t.co/UlSGExihnW']\n",
      "[-0.0332440668675476, -0.0332440668675476, -0.0332440668675476]\n",
      "[-75.45230903823258, -75.45230903823258, -75.45230903823258]\n"
     ]
    }
   ],
   "source": [
    "import pandas as pd\n",
    "\n",
    "texts, lats, longs = [], [], []\n",
    "for file in files:\n",
    "    _read_texts = pd.read_csv(os.path.join(\"Raw\", file), sep=';')['text']\n",
    "    if len(_read_texts) > 0:\n",
    "        texts.extend(_read_texts)\n",
    "        lat_long = list(map(float, file.replace(\".csv\", \"\").split(\"_\")))\n",
    "        lats.extend([lat_long[0]]*len(_read_texts))\n",
    "        longs.extend([lat_long[1]]*len(_read_texts))\n",
    "    \n",
    "print(texts[:3])\n",
    "print(lats[:3])\n",
    "print(longs[:3])"
   ]
  },
  {
   "cell_type": "code",
   "execution_count": 14,
   "id": "951478d8",
   "metadata": {},
   "outputs": [
    {
     "name": "stdout",
     "output_type": "stream",
     "text": [
      "                                                       Text       Lat  \\\n",
      "0         @Mafercoronelq Ese mal hay en todo el país, sa... -0.033244   \n",
      "1         En ceremonia realizada bajo todos los protocol... -0.033244   \n",
      "2         Con una ceremonia, eucaristía y recorrido por ... -0.033244   \n",
      "3         En el muelle principal de la #FlotillaFluvialD... -0.033244   \n",
      "4         Qué hijueputa falta me hace visitar una librería. -0.033244   \n",
      "...                                                     ...       ...   \n",
      "10815067  @carmelodifazio Ya se habla de elecciones y ya...  9.727190   \n",
      "10815068  @Labrador5Luis @carmelodifazio @yajadiaz7 La r...  9.727190   \n",
      "10815069  #PuebloVictorioso Aquí le dejo esto a revisión...  9.727190   \n",
      "10815070     @oveprisiones Entre delincuentes se entienden.  9.727190   \n",
      "10815071  Posiciones en el grupo Oriental🗒   De esta man...  9.727190   \n",
      "\n",
      "               Long  \n",
      "0        -75.452309  \n",
      "1        -75.452309  \n",
      "2        -75.452309  \n",
      "3        -75.452309  \n",
      "4        -75.452309  \n",
      "...             ...  \n",
      "10815067 -61.929388  \n",
      "10815068 -61.929388  \n",
      "10815069 -61.929388  \n",
      "10815070 -61.929388  \n",
      "10815071 -61.929388  \n",
      "\n",
      "[10815072 rows x 3 columns]\n"
     ]
    }
   ],
   "source": [
    "X = pd.DataFrame({\"Text\": texts, \"Lat\": lats, \"Long\": longs})\n",
    "print(X)"
   ]
  },
  {
   "cell_type": "code",
   "execution_count": 15,
   "id": "ff79fd4f",
   "metadata": {},
   "outputs": [],
   "source": [
    "# pickle the file to avoid time-costly repetitions of the steps above\n",
    "import pickle\n",
    "with open(\"Rawdata.pkl\", \"wb\") as save:\n",
    "    pickle.dump(X, save)"
   ]
  }
 ],
 "metadata": {
  "kernelspec": {
   "display_name": "Python 3 (ipykernel)",
   "language": "python",
   "name": "python3"
  },
  "language_info": {
   "codemirror_mode": {
    "name": "ipython",
    "version": 3
   },
   "file_extension": ".py",
   "mimetype": "text/x-python",
   "name": "python",
   "nbconvert_exporter": "python",
   "pygments_lexer": "ipython3",
   "version": "3.7.11"
  }
 },
 "nbformat": 4,
 "nbformat_minor": 5
}
