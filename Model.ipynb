{
 "cells": [
  {
   "cell_type": "code",
   "execution_count": 1,
   "id": "33b39182",
   "metadata": {},
   "outputs": [],
   "source": [
    "import pickle\n",
    "import pandas as pd\n",
    "#Rawdata.pkl is created in \"Makedata.py\"\n",
    "with open(\"Rawdata.pkl\", \"rb\") as load:\n",
    "    X = pickle.load(load)"
   ]
  },
  {
   "cell_type": "code",
   "execution_count": 2,
   "id": "7be3d08e",
   "metadata": {},
   "outputs": [
    {
     "name": "stdout",
     "output_type": "stream",
     "text": [
      "10815072\n",
      "10815004\n"
     ]
    }
   ],
   "source": [
    "# Data preprocessing\n",
    "# Drop empty fields\n",
    "print(len(X))\n",
    "X = X.dropna()\n",
    "print(len(X))"
   ]
  },
  {
   "cell_type": "code",
   "execution_count": 3,
   "id": "2a589ee1",
   "metadata": {},
   "outputs": [],
   "source": [
    "#Lowercase everything\n",
    "X['Text'] = X['Text'].astype(str)\n",
    "X['Text'] = X['Text'].apply(lambda text: text.lower())"
   ]
  },
  {
   "cell_type": "code",
   "execution_count": 4,
   "id": "c305f5ca",
   "metadata": {},
   "outputs": [],
   "source": [
    "# Pre-make train and test data, avoid repetitions\n",
    "from sklearn.feature_extraction.text import TfidfVectorizer\n",
    "from sklearn.model_selection import cross_val_score, train_test_split\n",
    "import numpy as np\n",
    "X.reset_index(inplace=True, drop=True)"
   ]
  },
  {
   "cell_type": "code",
   "execution_count": 5,
   "id": "c2260347",
   "metadata": {
    "scrolled": false
   },
   "outputs": [
    {
     "name": "stdout",
     "output_type": "stream",
     "text": [
      "(9733503, 51783)\n"
     ]
    }
   ],
   "source": [
    "X_train, X_test, y_train, y_test = train_test_split(X['Text'], X['Lat'], test_size=0.1, random_state=100)\n",
    "\n",
    "vectorizer = TfidfVectorizer(analyzer='word',lowercase=False, min_df=100)\n",
    "X_train = vectorizer.fit_transform(X_train)\n",
    "X_test = vectorizer.transform(X_test)\n",
    "print(X_train.shape)"
   ]
  },
  {
   "cell_type": "code",
   "execution_count": 6,
   "id": "967b32a6",
   "metadata": {},
   "outputs": [],
   "source": [
    "from sklearn.decomposition import TruncatedSVD\n",
    "reducer = TruncatedSVD(30)\n",
    "X_train_trunc = reducer.fit_transform(X_train)\n",
    "X_test_trunc = reducer.transform(X_test)"
   ]
  },
  {
   "cell_type": "code",
   "execution_count": null,
   "id": "a23b1da1",
   "metadata": {},
   "outputs": [],
   "source": [
    "from lightgbm.sklearn import LGBMRegressor\n",
    "\n",
    "model = LGBMRegressor(n_jobs=-1, n_estimators=2500, learning_rate=0.35, num_leaves=9120)\n",
    "model.fit(X_train_trunc, y_train)\n",
    "\n",
    "from sklearn.metrics import accuracy_score\n",
    "print(mean_absolute_error(y_test, model.predict(X_test_trunc)))"
   ]
  },
  {
   "cell_type": "code",
   "execution_count": null,
   "id": "a8d01deb",
   "metadata": {},
   "outputs": [],
   "source": []
  }
 ],
 "metadata": {
  "kernelspec": {
   "display_name": "Python 3 (ipykernel)",
   "language": "python",
   "name": "python3"
  },
  "language_info": {
   "codemirror_mode": {
    "name": "ipython",
    "version": 3
   },
   "file_extension": ".py",
   "mimetype": "text/x-python",
   "name": "python",
   "nbconvert_exporter": "python",
   "pygments_lexer": "ipython3",
   "version": "3.7.9"
  }
 },
 "nbformat": 4,
 "nbformat_minor": 5
}
