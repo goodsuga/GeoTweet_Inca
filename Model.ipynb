{
 "cells": [
  {
   "cell_type": "code",
   "execution_count": 1,
   "id": "33b39182",
   "metadata": {},
   "outputs": [],
   "source": [
    "import pickle\n",
    "import pandas as pd\n",
    "#Rawdata.pkl is created in \"Makedata.py\"\n",
    "with open(\"Rawdata.pkl\", \"rb\") as load:\n",
    "    X = pickle.load(load)"
   ]
  },
  {
   "cell_type": "code",
   "execution_count": 2,
   "id": "7be3d08e",
   "metadata": {},
   "outputs": [
    {
     "name": "stdout",
     "output_type": "stream",
     "text": [
      "10815072\n",
      "10815004\n"
     ]
    }
   ],
   "source": [
    "# Data preprocessing\n",
    "# Drop empty fields\n",
    "print(len(X))\n",
    "X = X.dropna()\n",
    "print(len(X))"
   ]
  },
  {
   "cell_type": "code",
   "execution_count": 3,
   "id": "2a589ee1",
   "metadata": {},
   "outputs": [],
   "source": [
    "#Lowercase everything\n",
    "X['Text'] = X['Text'].astype(str)\n",
    "X['Text'] = X['Text'].apply(lambda text: text.lower())"
   ]
  },
  {
   "cell_type": "code",
   "execution_count": 4,
   "id": "c305f5ca",
   "metadata": {},
   "outputs": [],
   "source": [
    "# Pre-make train and test data, avoid repetitions\n",
    "from sklearn.feature_extraction.text import TfidfVectorizer\n",
    "from sklearn.model_selection import cross_val_score, train_test_split\n",
    "import numpy as np\n",
    "X.reset_index(inplace=True, drop=True)"
   ]
  },
  {
   "cell_type": "code",
   "execution_count": 5,
   "id": "c2260347",
   "metadata": {
    "scrolled": false
   },
   "outputs": [
    {
     "name": "stdout",
     "output_type": "stream",
     "text": [
      "(9733503, 51783)\n"
     ]
    }
   ],
   "source": [
    "X_train, X_test, y_train_lat, y_test_lat = train_test_split(X['Text'], X['Lat'], test_size=0.1, random_state=100)\n",
    "_, _, y_train_long, y_test_long = train_test_split(X['Text'], X['Long'], test_size=0.1, random_state=100)\n",
    "\n",
    "vectorizer = TfidfVectorizer(analyzer='word',lowercase=False, min_df=100)\n",
    "X_train = vectorizer.fit_transform(X_train)\n",
    "X_test = vectorizer.transform(X_test)\n",
    "print(X_train.shape)"
   ]
  },
  {
   "cell_type": "code",
   "execution_count": 6,
   "id": "967b32a6",
   "metadata": {},
   "outputs": [],
   "source": [
    "from sklearn.decomposition import TruncatedSVD\n",
    "reducer = TruncatedSVD(30)\n",
    "X_train_trunc = reducer.fit_transform(X_train)\n",
    "X_test_trunc = reducer.transform(X_test)"
   ]
  },
  {
   "cell_type": "code",
   "execution_count": 7,
   "id": "a23b1da1",
   "metadata": {},
   "outputs": [
    {
     "data": {
      "text/plain": [
       "LGBMRegressor(learning_rate=0.35, n_estimators=2500, num_leaves=9120)"
      ]
     },
     "execution_count": 7,
     "metadata": {},
     "output_type": "execute_result"
    }
   ],
   "source": [
    "from lightgbm.sklearn import LGBMRegressor\n",
    "\n",
    "model_lat = LGBMRegressor(n_jobs=-1, n_estimators=2500, learning_rate=0.35, num_leaves=9120)\n",
    "model_lat.fit(X_train_trunc, y_train_lat)\n",
    "\n",
    "model_long = LGBMRegressor(n_jobs=-1, n_estimators=2500, learning_rate=0.35, num_leaves=9120)\n",
    "model_long.fit(X_train_trunc, y_train_long)"
   ]
  },
  {
   "cell_type": "code",
   "execution_count": 8,
   "id": "a8d01deb",
   "metadata": {},
   "outputs": [
    {
     "ename": "NameError",
     "evalue": "name 'mean_absolute_error' is not defined",
     "output_type": "error",
     "traceback": [
      "\u001b[1;31m---------------------------------------------------------------------------\u001b[0m",
      "\u001b[1;31mNameError\u001b[0m                                 Traceback (most recent call last)",
      "\u001b[1;32m~\\AppData\\Local\\Temp\\2\\ipykernel_6936\\4009277212.py\u001b[0m in \u001b[0;36m<module>\u001b[1;34m\u001b[0m\n\u001b[0;32m      8\u001b[0m     \u001b[0mpickle\u001b[0m\u001b[1;33m.\u001b[0m\u001b[0mdump\u001b[0m\u001b[1;33m(\u001b[0m\u001b[0mpreds_long\u001b[0m\u001b[1;33m,\u001b[0m \u001b[0msave\u001b[0m\u001b[1;33m)\u001b[0m\u001b[1;33m\u001b[0m\u001b[1;33m\u001b[0m\u001b[0m\n\u001b[0;32m      9\u001b[0m \u001b[1;33m\u001b[0m\u001b[0m\n\u001b[1;32m---> 10\u001b[1;33m \u001b[0mprint\u001b[0m\u001b[1;33m(\u001b[0m\u001b[1;34mf\"LAT ERROR: {mean_absolute_error(y_test_lat, preds_lat)}\"\u001b[0m\u001b[1;33m)\u001b[0m\u001b[1;33m\u001b[0m\u001b[1;33m\u001b[0m\u001b[0m\n\u001b[0m\u001b[0;32m     11\u001b[0m \u001b[0mprint\u001b[0m\u001b[1;33m(\u001b[0m\u001b[1;34mf\"LONG ERROR: {mean_absolute_error(y_test_long, preds_long)}\"\u001b[0m\u001b[1;33m)\u001b[0m\u001b[1;33m\u001b[0m\u001b[1;33m\u001b[0m\u001b[0m\n",
      "\u001b[1;31mNameError\u001b[0m: name 'mean_absolute_error' is not defined"
     ]
    }
   ],
   "source": [
    "\n",
    "preds_lat = model_lat.predict(X_test_trunc)\n",
    "preds_long = model_long.predict(X_test_trunc)\n",
    "\n",
    "with open(\"LAT_PRED.pkl\", \"wb\") as save:\n",
    "    pickle.dump(preds_lat, save)\n",
    "\n",
    "with open(\"LONG_PRED.pkl\", \"wb\") as save:\n",
    "    pickle.dump(preds_long, save)\n"
   ]
  },
  {
   "cell_type": "code",
   "execution_count": 9,
   "id": "592735e9",
   "metadata": {},
   "outputs": [
    {
     "name": "stdout",
     "output_type": "stream",
     "text": [
      "LAT ERROR: 5.804093798198766\n",
      "LONG ERROR: 3.6656025520347124\n"
     ]
    }
   ],
   "source": [
    "from sklearn.metrics import mean_absolute_error\n",
    "\n",
    "print(f\"LAT ERROR: {mean_absolute_error(y_test_lat, preds_lat)}\")\n",
    "print(f\"LONG ERROR: {mean_absolute_error(y_test_long, preds_long)}\")"
   ]
  },
  {
   "cell_type": "code",
   "execution_count": 16,
   "id": "2132a643",
   "metadata": {},
   "outputs": [
    {
     "name": "stdout",
     "output_type": "stream",
     "text": [
      "824.8049995035177\n"
     ]
    }
   ],
   "source": [
    "from geopy import distance\n",
    "\n",
    "def get_km_error(lat_true, long_true, lat_pred, long_pred):\n",
    "    return distance.distance((lat_true, long_true), (lat_pred, long_pred)).km\n",
    "\n",
    "from statistics import mean\n",
    "print(mean([get_km_error(lat_true, long_true, lat_pred, long_pred) for lat_true, long_true, lat_pred, long_pred in\n",
    "           zip(y_test_lat, y_test_long, preds_lat, preds_long)]))"
   ]
  },
  {
   "cell_type": "code",
   "execution_count": null,
   "id": "5ea66ccb",
   "metadata": {},
   "outputs": [],
   "source": []
  }
 ],
 "metadata": {
  "kernelspec": {
   "display_name": "Python 3 (ipykernel)",
   "language": "python",
   "name": "python3"
  },
  "language_info": {
   "codemirror_mode": {
    "name": "ipython",
    "version": 3
   },
   "file_extension": ".py",
   "mimetype": "text/x-python",
   "name": "python",
   "nbconvert_exporter": "python",
   "pygments_lexer": "ipython3",
   "version": "3.7.11"
  }
 },
 "nbformat": 4,
 "nbformat_minor": 5
}
